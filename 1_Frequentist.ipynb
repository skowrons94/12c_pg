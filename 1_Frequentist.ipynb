{
 "cells": [
  {
   "cell_type": "code",
   "execution_count": 1,
   "metadata": {},
   "outputs": [],
   "source": [
    "import os\n",
    "\n",
    "import numpy as np\n",
    "\n",
    "from pyazr import azure2\n",
    "from lmfit import Parameters, Minimizer\n",
    "\n",
    "from multiprocess import Pool\n",
    "\n",
    "from IPython.display import display, update_display\n",
    "\n",
    "os.environ[\"OMP_NUM_THREADS\"] = \"1\"\n",
    "\n",
    "niter  = 1 # Number of iterations\n",
    "nprocs = 1 # Number of processes\n",
    "\n",
    "# Define the data labels (in AZURE2 order)\n",
    "labels = [\"Meyer et al. (1976) - 84.3 deg\",\n",
    "          \"Meyer et al. (1976) - 114.5 deg\",\n",
    "          \"Meyer et al. (1976) - 144.1 deg\", \n",
    "          \"LUNA HPGe (2023)\", \n",
    "          \"LUNA BGO (2023)\",\n",
    "          \"Felsenkeller (2023)\",\n",
    "          \"ATOMKI (2023)\",\n",
    "          \"Notre Dame (2023) - 0 deg\",\n",
    "          \"Notre Dame (2023) - 55 deg\",\n",
    "          \"Burtebaev et al. (2008)\",\n",
    "          \"Lamb et al. (1957)\",\n",
    "          \"Bailey et al. (1950)\",\n",
    "          \"Vogl et al. (1963)\",\n",
    "          \"Rolfs et al. (1974) - 0 deg\",\n",
    "          \"Rolfs et al. (1974) - 90 deg\"]\n",
    "\n",
    "# Nuisance parameter map : { index : (value, error) } (in AZURE2 order)\n",
    "nuisances = { 0 : (1.63, 0.12) }\n",
    "\n",
    "# Normalization parameter map : { index : (value, error) } (in AZURE2 order)\n",
    "norms = { 0:  (1, 0.0),    1:  (1, 0.0),    2: (1, 0.0),  \n",
    "          3:  (1, 0.069),  4:  (1, 0.079),  5: (1, 0.1),  \n",
    "          6:  (1, 0.06),    7:  (1, 0.1),    8: (1, 0.1),  \n",
    "          9:  (1, 0.1),    10: (1, 0.0),   11: (1, 0.0), \n",
    "          12: (1, 0.0),    13: (1, 0.0),   14: (1, 0.0) }"
   ]
  },
  {
   "cell_type": "code",
   "execution_count": 2,
   "metadata": {},
   "outputs": [],
   "source": [
    "# We read the .azr file\n",
    "azr = azure2('12c_pg.azr', nprocs=nprocs)\n",
    "\n",
    "# We get the initial values from AZURE2\n",
    "theta0 = azr.params\n",
    "ntheta = len(theta0)\n",
    "\n",
    "# Now we add the normalizations\n",
    "for norm in norms.items( ): theta0 = np.concatenate( (theta0, [norm[1][0]]) )\n",
    "\n",
    "# We'll read the data from the output file since it's already in the center-of-mass frame\n",
    "y = azr.cross\n",
    "yerr = azr.cross_err"
   ]
  },
  {
   "cell_type": "code",
   "execution_count": 3,
   "metadata": {},
   "outputs": [],
   "source": [
    "# Callback function to print the chi2 at each iteration\n",
    "def callback(params, iter, resid, *args, **kws):\n",
    "    if( iter % 10 == 0 ): \n",
    "        print( \" \", end=\"\\r\")\n",
    "        update_display(\"Process {} ---- Iteration: {:6d} it Chi2: {:15.4f}\".format( args[0], iter, np.sum( np.array(resid)**2 ) ), display_id=str(args[0]))\n",
    "    pass\n",
    "\n",
    "# Add nuisance parameter to chi2\n",
    "def nuisance( theta ):\n",
    "    nu = []\n",
    "    for i in nuisances: nu.append( pow( (theta[i] - nuisances[i][0]) / nuisances[i][1], 2 ) )\n",
    "    return nu\n",
    "\n",
    "# Add nuisance normalization to chi2\n",
    "def normalization( theta ):\n",
    "    norm = []\n",
    "    for i in norms:\n",
    "        if( norms[i][1] != 0 ):\n",
    "            idx = ntheta + i\n",
    "            norm.append( (theta[idx] - norms[i][0]) / norms[i][1] )\n",
    "    return norm\n",
    "\n",
    "# Calculated squared residuals\n",
    "def least_squares( mu, theta ):\n",
    "    res = []\n",
    "    for i in range( len( mu ) ):\n",
    "        idx = ntheta + i\n",
    "        res.extend( (mu[i] - y[i] * theta[idx]) / ( yerr[i] * theta[idx] ) )\n",
    "    return res\n",
    "\n",
    "#Function to minimize\n",
    "def func( theta, proc=0 ):\n",
    "    theta = list( theta.valuesdict().values() )\n",
    "    mu = azr.calculate( theta[:ntheta], proc=proc )\n",
    "    fcn = least_squares( mu, theta )\n",
    "    fcn.extend( normalization( theta ) )\n",
    "    fcn.extend( nuisance( theta ) )\n",
    "    return fcn"
   ]
  },
  {
   "cell_type": "code",
   "execution_count": 4,
   "metadata": {},
   "outputs": [],
   "source": [
    "def fit( args ):\n",
    "    print( \" \", end=\"\\r\" )\n",
    "    proc, values = args[0], args[1]\n",
    "\n",
    "    # Preparing the parameters\n",
    "    params = Parameters()\n",
    "    for i in range(len(values)):\n",
    "        if( i == 0 ):           params.add( \"param_{}\".format(i), value=values[i], vary=True, min=0,               max=values[i] * 10 )\n",
    "        elif( i in [1,5,11] ):  params.add( \"param_{}\".format(i), value=values[i], vary=True, min=values[i] - 0.1, max=values[i] + 0.1 )\n",
    "        else:                   params.add( \"param_{}\".format(i), value=values[i], vary=True, min=-1e8,            max=1e8 )\n",
    "\n",
    "    # Starting the minimization  \n",
    "    mini = Minimizer( func, params, fcn_args=(proc,), iter_cb=callback )\n",
    "    out = mini.minimize( method=\"least_squares\" )\n",
    "    update_display(\"Process {} ---- Finished.\".format( proc ), display_id=str(proc))\n",
    "                        \n",
    "    # Getting the parameters\n",
    "    result = [param.value for _, param in out.params.items()]\n",
    "    covari = out.covar\n",
    "\n",
    "    return result, covari"
   ]
  },
  {
   "cell_type": "code",
   "execution_count": 5,
   "metadata": {},
   "outputs": [
    {
     "data": {
      "text/plain": [
       "'Process 0 ---- Finished.'"
      ]
     },
     "metadata": {},
     "output_type": "display_data"
    },
    {
     "name": "stdout",
     "output_type": "stream",
     "text": [
      " \r"
     ]
    }
   ],
   "source": [
    "for i in range( nprocs ):\n",
    "    display(\"Process {} ---- Starting...\".format( i ), display_id=str(i))\n",
    "\n",
    "for _ in range( niter ):\n",
    "\n",
    "    # Sample the initial guesses\n",
    "    bucket = [ ]\n",
    "    for _ in range( nprocs ):\n",
    "        params = np.zeros( len(theta0) )\n",
    "        for i in range( len(theta0) ):\n",
    "            if( i == 0 ):                 params[i] = np.random.normal( nuisances[0][0], nuisances[0][1] )\n",
    "            elif( i not in [1, 5, 11] ):  params[i] = np.sign(theta0[i]) * np.random.uniform( abs(theta0[i]) * 0.9, abs(theta0[i]) * 1.1 )\n",
    "            else:                         params[i] = np.random.uniform( theta0[i] * 0.99, theta0[i] * 1.01 )\n",
    "        bucket.append( params )\n",
    "\n",
    "    # Starting the processes\n",
    "    with Pool(processes=nprocs) as pool:\n",
    "        result = pool.map( fit, zip(range( nprocs ), bucket) )\n",
    "\n",
    "    params = result[0][0]\n",
    "    covari = result[0][1]\n",
    "\n",
    "    # Appending to file\n",
    "    np.savetxt( \"results/freq/params.txt\", params )\n",
    "    np.savetxt( \"results/freq/cov.txt\",    covari )\n"
   ]
  }
 ],
 "metadata": {
  "kernelspec": {
   "display_name": "base",
   "language": "python",
   "name": "python3"
  },
  "language_info": {
   "codemirror_mode": {
    "name": "ipython",
    "version": 3
   },
   "file_extension": ".py",
   "mimetype": "text/x-python",
   "name": "python",
   "nbconvert_exporter": "python",
   "pygments_lexer": "ipython3",
   "version": "3.11.7"
  }
 },
 "nbformat": 4,
 "nbformat_minor": 2
}
