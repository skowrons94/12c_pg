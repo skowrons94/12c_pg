{
 "cells": [
  {
   "cell_type": "code",
   "execution_count": 1,
   "metadata": {},
   "outputs": [],
   "source": [
    "# Import the necessary libraries\n",
    "import pyazr\n",
    "import emcee\n",
    "\n",
    "import numpy as np\n",
    "import seaborn as sns\n",
    "import matplotlib.pyplot as plt\n",
    "\n",
    "from glob import glob\n",
    "from tqdm import tqdm\n",
    "from brick.azr import AZR as brick"
   ]
  },
  {
   "cell_type": "code",
   "execution_count": 2,
   "metadata": {},
   "outputs": [],
   "source": [
    "# Define the data labels (in AZURE2 order)\n",
    "labels = [\"Meyer et al. (1976) - 84.3 deg\",\n",
    "          \"Meyer et al. (1976) - 114.5 deg\",\n",
    "          \"Meyer et al. (1976) - 144.1 deg\", \n",
    "          \"LUNA HPGe (2023)\", \n",
    "          \"LUNA BGO (2023)\",\n",
    "          \"Felsenkeller (2023)\",\n",
    "          \"ATOMKI (2023)\",\n",
    "          \"Notre Dame (2023) - 0 deg\",\n",
    "          \"Notre Dame (2023) - 55 deg\",\n",
    "          \"Burtebaev et al. (2008)\",\n",
    "          \"Lamb et al. (1957)\",\n",
    "          \"Bailey et al. (1950)\",\n",
    "          \"Vogl et al. (1963)\",\n",
    "          \"Rolfs et al. (1974) - 0 deg\",\n",
    "          \"Rolfs et al. (1974) - 90 deg\"]"
   ]
  },
  {
   "cell_type": "code",
   "execution_count": 6,
   "metadata": {},
   "outputs": [],
   "source": [
    "#backend = emcee.backends.HDFBackend(\"results/mcmc/samples_norms.h5\")\n",
    "\n",
    "# Get the number of samples after burn in\n",
    "#nb  = 200\n",
    "#lnp = backend.get_log_prob(discard=nb)\n",
    "#ii  = np.where(np.median(lnp, axis=0)!=-np.inf)[0]\n",
    "\n",
    "# Get only the first chain\n",
    "#data_mcmc = backend.get_chain(discard=nb, thin=20)[:, ii, :]\n",
    "#data_mcmc = data_mcmc.reshape((-1, data_mcmc.shape[-1]))\n",
    "\n",
    "# Shuffle the data to get a better representation\n",
    "#np.random.shuffle( data_mcmc )\n",
    "#data_mcmc = data_mcmc[:1000]\n",
    "import pickle as pkl\n",
    "\n",
    "with open(\"results/bilby/ntemps_5_checkpoint_resume.pickle\", \"rb\") as f:\n",
    "    dump = pkl.load(f)\n",
    "\n",
    "samples = dump[\"chain_array\"][:,500:].flatten()\n",
    "\n",
    "# Create a numpy array of the data\n",
    "data = np.zeros( (int(len(samples)/28), 28) )\n",
    "for i in range( int(len(samples)/28) ):\n",
    "    if( samples[28*i] == 0 ): continue\n",
    "    data[i] = samples[28*i:28*(i + 1)]\n",
    "\n",
    "# Remove all rows with 0\n",
    "data = data[~np.all(data == 0, axis=1)]\n",
    "\n",
    "np.random.shuffle( data )\n",
    "data_mcmc = data[:1000]"
   ]
  },
  {
   "cell_type": "code",
   "execution_count": 7,
   "metadata": {},
   "outputs": [],
   "source": [
    "data_freq = []\n",
    "files = glob( \"results/norms/samples_*.txt\" )\n",
    "for file in files:\n",
    "    data_freq.append( np.loadtxt( file ) )\n",
    "data_freq = np.concatenate( data_freq, axis=0 )[:1000]"
   ]
  },
  {
   "cell_type": "code",
   "execution_count": 5,
   "metadata": {},
   "outputs": [],
   "source": [
    "# Prepare pyazr to extrapolate the data\n",
    "azr = pyazr.azure2( \"12c_pg.azr\" )\n",
    "azr.extrap_mode( )\n",
    "segments = azr.nsegments\n",
    "\n",
    "# Get the lables\n",
    "brk = brick( \"12c_pg.azr\" )\n",
    "params_labels = brk.config.labels\n",
    "params_labels[-len(labels):] = labels"
   ]
  },
  {
   "cell_type": "code",
   "execution_count": 8,
   "metadata": {},
   "outputs": [],
   "source": [
    "# Plot the histograms of data_mcmc and data_freq on the same plot for each parameter\n",
    "for i in range( data_mcmc.shape[1] ):\n",
    "    fig, ax = plt.subplots( 1, 1, figsize=( 6, 4 ) )\n",
    "    sns.histplot( data_mcmc[:, i], kde=True, ax=ax, color=\"blue\", label=\"MCMC\" )\n",
    "    sns.histplot( data_freq[:, i], kde=True, ax=ax, color=\"red\", label=\"Frequentist\" )\n",
    "    #ax.set_xlabel( params_labels[i] )\n",
    "    ax.legend( )\n",
    "    #ax.set_yscale( \"log\" )\n",
    "    plt.savefig( \"results/comparison/parameter_{}.pdf\".format( i ) )\n",
    "    plt.close( )"
   ]
  }
 ],
 "metadata": {
  "kernelspec": {
   "display_name": "base",
   "language": "python",
   "name": "python3"
  },
  "language_info": {
   "codemirror_mode": {
    "name": "ipython",
    "version": 3
   },
   "file_extension": ".py",
   "mimetype": "text/x-python",
   "name": "python",
   "nbconvert_exporter": "python",
   "pygments_lexer": "ipython3",
   "version": "3.11.6"
  }
 },
 "nbformat": 4,
 "nbformat_minor": 2
}
