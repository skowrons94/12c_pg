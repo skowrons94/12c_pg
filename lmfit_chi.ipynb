{
 "cells": [
  {
   "cell_type": "code",
   "execution_count": 1,
   "metadata": {},
   "outputs": [],
   "source": [
    "import numpy as np\n",
    "import seaborn as sns\n",
    "import matplotlib.pyplot as plt\n",
    "\n",
    "from brick.azr import AZR\n",
    "from lmfit import Parameters, Minimizer, report_fit, conf_interval\n",
    "\n",
    "from tqdm import tqdm\n",
    "\n",
    "# Define the data labels (in AZURE2 order)\n",
    "labels = [\"Meyer et al. (1976) - 84.3 deg\",\n",
    "          \"Meyer et al. (1976) - 114.5 deg\",\n",
    "          \"Meyer et al. (1976) - 144.1 deg\", \n",
    "          \"LUNA HPGe (2023)\", \n",
    "          \"LUNA BGO (2023)\",\n",
    "          \"Felsenkeller (2023)\",\n",
    "          \"ATOMKI (2023)\",\n",
    "          \"Notre Dame (2023) - 0 deg\",\n",
    "          \"Notre Dame (2023) - 55 deg\",\n",
    "          \"Burtebaev et al. (2008)\",\n",
    "          \"Lamb et al. (1957)\",\n",
    "          \"Bailey et al. (1950)\",\n",
    "          \"Vogl et al. (1963)\",\n",
    "          \"Rolfs et al. (1974) - 0 deg\",\n",
    "          \"Rolfs et al. (1974) - 90 deg\"]\n",
    "\n",
    "# Nuisance parameter map : { index : (value, error) } (in AZURE2 order)\n",
    "nuisances = { 0 : (1.63, 0.12), \n",
    "             13: (1, 0.05), 14: (1, 0.05),  15: (1, 0.05),  \n",
    "             16: (1, 0.069),  17: (1, 0.079),  18: (1, 0.1),  \n",
    "             19: (1, 0.1),  20: (1, 0.1), 21: (1, 0.1),  \n",
    "             22: (1, 0.1),  23: (1, 0.0), 24: (1, 0.0), \n",
    "             25: (1, 0.0), 26: (1, 0.0), 27: (1, 0.0) }"
   ]
  },
  {
   "cell_type": "code",
   "execution_count": 2,
   "metadata": {},
   "outputs": [],
   "source": [
    "# Convert the covariance matrix into a correlation matrix\n",
    "def corr_from_cov(cov):\n",
    "    v = np.sqrt(np.diag(cov))\n",
    "    outer_v = np.outer(v, v)\n",
    "    corr = cov / outer_v\n",
    "    corr[cov == 0] = 0\n",
    "    return corr"
   ]
  },
  {
   "cell_type": "code",
   "execution_count": 3,
   "metadata": {},
   "outputs": [],
   "source": [
    "# We read the .azr file and set the external capture file to speed up the calculation\n",
    "azr = AZR('12c_pg.azr')\n",
    "azr.ext_capture_file ='output/intEC.dat'\n",
    "\n",
    "# We get the initial values from AZURE2\n",
    "theta0  = azr.config.get_input_values()\n",
    "ntheta  = len(theta0)\n",
    "nparams = len(azr.config.parameters)"
   ]
  },
  {
   "cell_type": "code",
   "execution_count": 4,
   "metadata": {},
   "outputs": [],
   "source": [
    "# We'll read the data from the output file since it's already in the center-of-mass frame\n",
    "data    = np.vstack([np.loadtxt('output/'+f) for f in azr.config.data.output_files])\n",
    "x       = data[:, 0]\n",
    "y       = data[:, 5]\n",
    "dy_bare = data[:, 6]"
   ]
  },
  {
   "cell_type": "code",
   "execution_count": 5,
   "metadata": {},
   "outputs": [],
   "source": [
    "# Callback function to print the chi2 at each iteration\n",
    "def callback(params, iter, resid, *args, **kws):\n",
    "    if( iter % 10 == 0 ): print(\"Iteration: {:6d} it Chi2: {:15.4f}\".format( iter, resid ), end=\"\\r\" )\n",
    "\n",
    "# Add nuisance parameters to the fit\n",
    "def nuisance(theta):\n",
    "    chi2 = 0\n",
    "    for i in nuisances:\n",
    "        if( nuisances[i][1] == 0 ): continue\n",
    "        else: chi2 += pow((theta[i] - nuisances[i][0])/nuisances[i][1], 2)\n",
    "    return chi2\n",
    "\n",
    "# Function to minimize\n",
    "def fcn(theta):\n",
    "    theta = list( theta.valuesdict().values() )\n",
    "    output = np.vstack(azr.predict(theta, dress_up=False))\n",
    "    mu, y, dy = output[:, 3], output[:, 5], output[:, 6]\n",
    "    return np.sum( pow( (y - mu) / dy, 2 ) ) + nuisance(theta)"
   ]
  },
  {
   "cell_type": "code",
   "execution_count": 6,
   "metadata": {},
   "outputs": [],
   "source": [
    "params = Parameters()\n",
    "for i in range(ntheta):\n",
    "    if( theta0[i] > 0 ): params.add( \"param_{}\".format(i), value=theta0[i], vary=True, min=0, max=theta0[i] * 100 )\n",
    "    else: params.add( \"param_{}\".format(i), value=theta0[i], vary=True, min=theta0[i] * 100, max=0 )\n",
    "\n",
    "mini = Minimizer( fcn, params, iter_cb=callback )"
   ]
  },
  {
   "cell_type": "code",
   "execution_count": 7,
   "metadata": {},
   "outputs": [
    {
     "name": "stdout",
     "output_type": "stream",
     "text": [
      "Iteration:  58000 it Chi2:       4801.7103\r"
     ]
    }
   ],
   "source": [
    "# Minimization\n",
    "out = mini.minimize(method=\"lbfgsb\")"
   ]
  },
  {
   "cell_type": "code",
   "execution_count": 8,
   "metadata": {},
   "outputs": [
    {
     "name": "stdout",
     "output_type": "stream",
     "text": [
      "Parameter    Value       Stderr\n",
      "param_0     1.74135     0.00000\n",
      "param_1     2.36963     0.00000\n",
      "param_2 36407.44750     0.00000\n",
      "param_3    -0.49870     0.00000\n",
      "param_4  -716.90444     0.00000\n",
      "param_5     3.50500     0.00000\n",
      "param_6 53825.54791     0.00000\n",
      "param_7    -0.50086     0.00000\n",
      "param_8     0.00224     0.00000\n",
      "param_9  -481.76750     0.00000\n",
      "param_10  3975.00153     0.00000\n",
      "param_11     3.54701     0.00000\n",
      "param_12 47380.24696     0.00000\n",
      "param_13     1.01924     0.00000\n",
      "param_14     1.01605     0.00000\n",
      "param_15     1.00867     0.00000\n",
      "param_16     1.09796     0.00000\n",
      "param_17     1.09043     0.00000\n",
      "param_18     1.15445     0.00000\n",
      "param_19     0.93554     0.00000\n",
      "param_20     1.11344     0.00000\n",
      "param_21     0.86157     0.00000\n",
      "param_22     0.83001     0.00000\n",
      "param_23     1.48890     0.00000\n",
      "param_24     1.27733     0.00000\n",
      "param_25     1.17352     0.00000\n",
      "param_26     1.18250     0.00000\n",
      "param_27     1.09923     0.00000\n"
     ]
    }
   ],
   "source": [
    "theta, error = [], []\n",
    "print('Parameter    Value       Stderr')\n",
    "for name, param in out.params.items():\n",
    "    if( param.stderr == None ): param.stderr = 0\n",
    "    theta.append( param.value )\n",
    "    error.append( param.stderr )\n",
    "    print(f'{name:7s} {param.value:11.5f} {param.stderr:11.5f}')\n",
    "\n",
    "np.savetxt( \"lmfit/best_chi2.txt\", np.transpose([theta,error]), fmt='%1.4e %1.4e' )"
   ]
  },
  {
   "cell_type": "code",
   "execution_count": 9,
   "metadata": {},
   "outputs": [
    {
     "name": "stdout",
     "output_type": "stream",
     "text": [
      "Iteration:   1700 it Chi2:       4477.1518\r"
     ]
    }
   ],
   "source": [
    "# Minimization\n",
    "out2 = mini.minimize(method=\"least-squares\", params=out.params)"
   ]
  },
  {
   "cell_type": "code",
   "execution_count": null,
   "metadata": {},
   "outputs": [],
   "source": [
    "theta, error = [], []\n",
    "print('Parameter    Value       Stderr')\n",
    "for name, param in out.params.items():\n",
    "    if( param.stderr == None ): param.stderr = 0\n",
    "    theta.append( param.value )\n",
    "    error.append( param.stderr )\n",
    "    print(f'{name:7s} {param.value:11.5f} {param.stderr:11.5f}')"
   ]
  }
 ],
 "metadata": {
  "kernelspec": {
   "display_name": "base",
   "language": "python",
   "name": "python3"
  },
  "language_info": {
   "codemirror_mode": {
    "name": "ipython",
    "version": 3
   },
   "file_extension": ".py",
   "mimetype": "text/x-python",
   "name": "python",
   "nbconvert_exporter": "python",
   "pygments_lexer": "ipython3",
   "version": "3.11.6"
  }
 },
 "nbformat": 4,
 "nbformat_minor": 2
}
